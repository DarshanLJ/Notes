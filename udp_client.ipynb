{
 "cells": [
  {
   "cell_type": "code",
   "execution_count": 3,
   "metadata": {},
   "outputs": [
    {
     "name": "stdout",
     "output_type": "stream",
     "text": [
      "306E-16\n",
      "enter messageghj\n",
      "recieved from server fgfxdg\n",
      "enter messagenhg\n",
      "recieved from server ngjhg\n",
      "enter messagedivyen codeu\n",
      "recieved from server divyen love chole\n",
      "enter messagechole love bhature\n"
     ]
    },
    {
     "data": {
      "text/plain": [
       "<bound method socket.close of <socket.socket fd=156, family=AddressFamily.AF_INET, type=SocketKind.SOCK_DGRAM, proto=0, laddr=('0.0.0.0', 49982)>>"
      ]
     },
     "execution_count": 3,
     "metadata": {},
     "output_type": "execute_result"
    }
   ],
   "source": [
    "import socket\n",
    "host=socket.gethostname()\n",
    "print(host)\n",
    "port=6996\n",
    "client_socket=socket.socket(type=socket.SOCK_DGRAM)\n",
    "while True:\n",
    "    message=input(\"enter message\")\n",
    "    if not message:\n",
    "        break\n",
    "    client_socket.sendto(message.encode(),(host,port))\n",
    "    data,add=client_socket.recvfrom(1024)\n",
    "    if not data:\n",
    "        break\n",
    "    print(\"recieved from server\",data.decode())\n",
    "client_socket.close"
   ]
  },
  {
   "cell_type": "code",
   "execution_count": null,
   "metadata": {},
   "outputs": [],
   "source": []
  }
 ],
 "metadata": {
  "kernelspec": {
   "display_name": "Python 3",
   "language": "python",
   "name": "python3"
  },
  "language_info": {
   "codemirror_mode": {
    "name": "ipython",
    "version": 3
   },
   "file_extension": ".py",
   "mimetype": "text/x-python",
   "name": "python",
   "nbconvert_exporter": "python",
   "pygments_lexer": "ipython3",
   "version": "3.8.5"
  }
 },
 "nbformat": 4,
 "nbformat_minor": 4
}
