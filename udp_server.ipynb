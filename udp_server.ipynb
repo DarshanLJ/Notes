{
 "cells": [
  {
   "cell_type": "code",
   "execution_count": null,
   "metadata": {},
   "outputs": [
    {
     "name": "stdout",
     "output_type": "stream",
     "text": [
      "306E-16\n",
      "reciebved from client ghj\n",
      "----->fgfxdg\n",
      "reciebved from client nhg\n",
      "----->ngjhg\n",
      "reciebved from client divyen codeu\n",
      "----->divyen love chole\n",
      "reciebved from client chole love bhature\n",
      "----->\n"
     ]
    }
   ],
   "source": [
    "import socket\n",
    "host=socket.gethostname()\n",
    "print(host)\n",
    "port=6996\n",
    "server_socket=socket.socket(type=socket.SOCK_DGRAM)\n",
    "server_socket.bind((host,port))\n",
    "while True:\n",
    "    data,addr=server_socket.recvfrom(6996)\n",
    "    print(\"reciebved from client\",data.decode())\n",
    "    msg=input(\"----->\")\n",
    "    server_socket.sendto(msg.encode(),addr)\n",
    "server_socket.close()"
   ]
  },
  {
   "cell_type": "code",
   "execution_count": null,
   "metadata": {},
   "outputs": [],
   "source": []
  }
 ],
 "metadata": {
  "kernelspec": {
   "display_name": "Python 3",
   "language": "python",
   "name": "python3"
  },
  "language_info": {
   "codemirror_mode": {
    "name": "ipython",
    "version": 3
   },
   "file_extension": ".py",
   "mimetype": "text/x-python",
   "name": "python",
   "nbconvert_exporter": "python",
   "pygments_lexer": "ipython3",
   "version": "3.8.5"
  }
 },
 "nbformat": 4,
 "nbformat_minor": 4
}
